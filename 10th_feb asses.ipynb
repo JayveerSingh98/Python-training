{
 "cells": [
  {
   "cell_type": "code",
   "execution_count": null,
   "id": "65a60252-596e-469f-8470-10e2a7d9d1ad",
   "metadata": {},
   "outputs": [],
   "source": [
    "#Q1\n",
    "In Python, we use the open() method to open files.\n",
    "\n",
    "The dfferent modes of opering a file are:\n",
    "\n",
    "r: Open a file for reading.\n",
    "w : Open a file for writing. Creates a new file if it does not exist or truncates the file if exists.\n",
    "x : Open a file for exclusive creation. If the file already exists, the operation fails.\n",
    "a : Open a file for appending at the end of the file without truncating it. Creates a new file if it does not exist.\n",
    "t : Open in text mode.\n",
    "b : Open in binary mode.\n",
    "+ : Open a file for updating (reading and writing)"
   ]
  },
  {
   "cell_type": "code",
   "execution_count": null,
   "id": "4debf34a-d148-49d9-816d-b07cf81e0a80",
   "metadata": {},
   "outputs": [],
   "source": [
    "#Q2\n",
    "When we are done with the opened file, we need to close it. If it is not closed the resources that are tied with the file are not freed.\n",
    "\n",
    "In Python, the close() method is used to close a file. When you're done reading from or writing to a file, you need to close it so that other programs can access it\n",
    "and so that your program frees up the memory it used for the file."
   ]
  },
  {
   "cell_type": "code",
   "execution_count": 1,
   "id": "0915e9c9-38fb-41ea-b183-3c2e163d4ded",
   "metadata": {},
   "outputs": [],
   "source": [
    "#Q3\n",
    "# open the file in write mode (creates the file)\n",
    "with open('newfile.txt', 'w') as new_file:\n",
    "    #write contents in the file\n",
    "    new_file.write('I want to become a Data Scientist')\n",
    "\n",
    "#close the file\n",
    "new_file.close()"
   ]
  },
  {
   "cell_type": "code",
   "execution_count": 2,
   "id": "c8dee989-0450-402a-a6c7-7262bd78e0c1",
   "metadata": {},
   "outputs": [
    {
     "name": "stdout",
     "output_type": "stream",
     "text": [
      "I want to become a Data Scientist\n"
     ]
    }
   ],
   "source": [
    "# open the file in read mode\n",
    "with open('newfile.txt', 'r') as new_file:\n",
    "    #read contents of the file\n",
    "    read_content = new_file.read()\n",
    "    #display contents of the file\n",
    "    print(read_content)\n",
    "    \n",
    "#close the file\n",
    "new_file.close()"
   ]
  },
  {
   "cell_type": "code",
   "execution_count": 5,
   "id": "e64f1034-96cb-4ccf-9dff-6fd328f3201f",
   "metadata": {},
   "outputs": [],
   "source": [
    "#Q4\n",
    "\n",
    "#To understand the functionality of read(), readline() and readlines() properly, let's first create a .txt file and write a few lines of text in it.\n",
    "\n",
    "with open('example_file.txt', 'w') as file:\n",
    "    file.write('This is the first line in the file\\nThis is second line in the file\\nThis is last line in the file\\n')\n",
    "    \n",
    "file.close()\n",
    "#So we created .txt file and wrote 3 lines in it."
   ]
  },
  {
   "cell_type": "code",
   "execution_count": 6,
   "id": "7a1a986d-4502-4d85-a0ba-b6dc9700ac2f",
   "metadata": {},
   "outputs": [
    {
     "name": "stdout",
     "output_type": "stream",
     "text": [
      "This is the first line in the file\n",
      "This is second line in the file\n",
      "This is last line in the file\n",
      "\n"
     ]
    }
   ],
   "source": [
    "#the read() method is used to read the entire contents of a file as a single string. For example:\n",
    "\n",
    "with open('example_file.txt','r') as file:\n",
    "    contents = file.read()\n",
    "    print(contents)\n",
    "\n",
    "file.close()"
   ]
  },
  {
   "cell_type": "code",
   "execution_count": 7,
   "id": "e8b9f2db-9191-46dd-b7ea-b7614bc9c47a",
   "metadata": {},
   "outputs": [
    {
     "name": "stdout",
     "output_type": "stream",
     "text": [
      "This is the first line in the file\n",
      "\n"
     ]
    }
   ],
   "source": [
    "#readline() method is used to read a single line form the file. For example:\n",
    "\n",
    "with open('example_file.txt', 'r') as file:\n",
    "    line = file.readline()\n",
    "    print(line)\n",
    "\n",
    "file.close()"
   ]
  },
  {
   "cell_type": "code",
   "execution_count": 8,
   "id": "de7af17d-aee9-4e92-9afc-8a8e7dfe566a",
   "metadata": {},
   "outputs": [
    {
     "name": "stdout",
     "output_type": "stream",
     "text": [
      "['This is the first line in the file\\n', 'This is second line in the file\\n', 'This is last line in the file\\n']\n"
     ]
    }
   ],
   "source": [
    "#readlines() method is used to read all the lines of a file as a list of strings, where each stirng is a line of the file. For example:\n",
    "\n",
    "with open('example_file.txt', 'r') as file:\n",
    "    lines = file.readlines()\n",
    "    print(lines)\n",
    "    \n",
    "file.close()"
   ]
  },
  {
   "cell_type": "code",
   "execution_count": null,
   "id": "001e6b77-651f-4d6f-b5c8-08fbc47a805b",
   "metadata": {},
   "outputs": [],
   "source": [
    "#Q5\n",
    "The with statement is used with the open() function in Python to ensure that the file is properly closed after it has been used.\n",
    "The advantage of using the with statement is that it automatically takes care of closing the file for you, even if an error occurs during the execution of the block of code.\n",
    "\n",
    "When you use the with statement, Python creates a context in which the file is open and makes it available within the indented block following the with statement. \n",
    "When the block of code is executed, the file is automatically closed, even if an exception is raised. This helps prevent resource leaks and reduces the risk of data corruption."
   ]
  },
  {
   "cell_type": "code",
   "execution_count": 9,
   "id": "f9b40eb9-c5ae-475b-af24-215b8d7a5ef8",
   "metadata": {},
   "outputs": [
    {
     "name": "stdout",
     "output_type": "stream",
     "text": [
      "This is the line i wrote to the file using write function\n",
      "Line 1\n",
      "Line 2\n",
      "Line 3\n",
      "\n"
     ]
    }
   ],
   "source": [
    "#Q6\n",
    "#The write() and writelines() functions in Python are used to write text data to a file.\n",
    "\n",
    "#The write() function is used to write a string to a file. It takes a single string argument and returns the number of characters written to the file. For example:\n",
    "\n",
    "with open('example_file.txt', 'w') as file:\n",
    "    file.write('This is the line i wrote to the file using write function\\n')\n",
    "\n",
    "file.close()\n",
    "#The writelines() function is used to write a list of strings to a file. It takes a list of strings as an argument and writes each string to a separate line in the file. For example:\n",
    "\n",
    "lines = ['Line 1\\n','Line 2\\n', 'Line 3\\n']\n",
    "\n",
    "with open('example_file.txt', 'a') as file:\n",
    "    file.writelines(lines)\n",
    "    \n",
    "file.close()\n",
    "#Now lets read the file contents for verification\n",
    "\n",
    "with open('example_file.txt', 'r') as file:\n",
    "    contents = file.read()\n",
    "    print(contents)\n",
    "file.close()"
   ]
  },
  {
   "cell_type": "code",
   "execution_count": null,
   "id": "dd2fdcf4-939b-416c-be2a-48b52c5812fd",
   "metadata": {},
   "outputs": [],
   "source": []
  }
 ],
 "metadata": {
  "kernelspec": {
   "display_name": "Python 3 (ipykernel)",
   "language": "python",
   "name": "python3"
  },
  "language_info": {
   "codemirror_mode": {
    "name": "ipython",
    "version": 3
   },
   "file_extension": ".py",
   "mimetype": "text/x-python",
   "name": "python",
   "nbconvert_exporter": "python",
   "pygments_lexer": "ipython3",
   "version": "3.10.8"
  }
 },
 "nbformat": 4,
 "nbformat_minor": 5
}
