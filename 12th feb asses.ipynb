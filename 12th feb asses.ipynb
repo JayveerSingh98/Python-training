{
 "cells": [
  {
   "cell_type": "code",
   "execution_count": 1,
   "id": "80d2aacb-4255-4ea2-afb1-1c258366a453",
   "metadata": {},
   "outputs": [],
   "source": [
    "import logging\n",
    "\n",
    "logging.basicConfig(filename = 'mylogs.log', level = logging.INFO, format = '%(asctime)s %(message)s')"
   ]
  },
  {
   "cell_type": "code",
   "execution_count": null,
   "id": "3ae3cf26-ac69-4deb-b519-2c3110c75484",
   "metadata": {},
   "outputs": [],
   "source": [
    "#Q1\n",
    "In Python, an exception is an event that occurs during the execution of a program that disrupts the normal flow of the\n",
    "program's instructions. Exceptions are used to handle runtime errors and unexpected situations that can arise in a program. \n",
    "They provide a way to catch and handle errors in a program in a structured and organized way.\n",
    "\n",
    "Syntax errors, on the other hand, are errors in the syntax of the code that prevent the code from being executed. \n",
    "They occur when the code is written in a way that does not conform to the rules of the Python language. \n",
    "Syntax errors are usually caught by the Python interpreter when the code is being parsed, before it is executed.\n",
    "\n",
    "The key difference between exceptions and syntax errors is that exceptions occur during the execution of a program, \n",
    "while syntax errors occur before the execution of a program, when the code is being parsed by the interpreter. \n",
    "Exceptions can be handled and recovered from, while syntax errors need to be fixed before the code can be executed."
   ]
  },
  {
   "cell_type": "code",
   "execution_count": null,
   "id": "c2b37915-5a75-4be4-84c4-216c1a3bfb57",
   "metadata": {},
   "outputs": [],
   "source": [
    "#Q2\n",
    "When an exception is not handled, the program will terminate and an error message will be displayed to the user.\n",
    "The error message will contain the type of exception that was raised, along with a stack trace that shows the \n",
    "sequence of function calls that led to the exception.\n",
    "\n",
    "The stack trace provides information about where in the code the exception was raised and can help in identifying \n",
    "the cause of the problem. However, if the exception is not handled, the program will not be able to continue executing\n",
    "and the user will not be able to recover from the error.\n",
    "\n",
    "In some cases, an unhandled exception can also lead to data corruption, memory leaks, and other problems that can\n",
    "negatively impact the stability and reliability of the program.\n",
    "\n",
    "Example:-\n",
    "\n",
    "Without Exception Handling:\n",
    "In the following example, I am asking the user to input digits, i am then storing the digits to a list.\n",
    "And then i'll find the maximum number in that list.\n",
    "\n",
    "Without exception handling, lets say the user inputs a string character along with the integers. \n",
    "The program will generate an error moving on because the rest of the code expects the input to be consisting of\n",
    "integers not characters."
   ]
  },
  {
   "cell_type": "code",
   "execution_count": 2,
   "id": "a556aadf-7a5c-464e-ba7b-c748afef7736",
   "metadata": {},
   "outputs": [
    {
     "name": "stdin",
     "output_type": "stream",
     "text": [
      "Enter numbers:  452ff5\n"
     ]
    }
   ],
   "source": [
    "logging.info(\"Asking user for values\")\n",
    "some_input = input('Enter numbers: ')\n",
    "#Entered Input: 452ff5"
   ]
  },
  {
   "cell_type": "code",
   "execution_count": 3,
   "id": "14ac69d8-b959-455a-915e-3b75426a97fb",
   "metadata": {},
   "outputs": [
    {
     "ename": "ValueError",
     "evalue": "invalid literal for int() with base 10: 'f'",
     "output_type": "error",
     "traceback": [
      "\u001b[0;31m---------------------------------------------------------------------------\u001b[0m",
      "\u001b[0;31mValueError\u001b[0m                                Traceback (most recent call last)",
      "Cell \u001b[0;32mIn[3], line 6\u001b[0m\n\u001b[1;32m      4\u001b[0m all_values \u001b[38;5;241m=\u001b[39m []\n\u001b[1;32m      5\u001b[0m \u001b[38;5;28;01mfor\u001b[39;00m each_elem \u001b[38;5;129;01min\u001b[39;00m some_input:\n\u001b[0;32m----> 6\u001b[0m     all_values\u001b[38;5;241m.\u001b[39mappend(\u001b[38;5;28;43mint\u001b[39;49m\u001b[43m(\u001b[49m\u001b[43meach_elem\u001b[49m\u001b[43m)\u001b[49m)\n\u001b[1;32m      7\u001b[0m all_values\n\u001b[1;32m      9\u001b[0m logging\u001b[38;5;241m.\u001b[39minfo(\u001b[38;5;124m\"\u001b[39m\u001b[38;5;124mFinding greatest value\u001b[39m\u001b[38;5;124m\"\u001b[39m)\n",
      "\u001b[0;31mValueError\u001b[0m: invalid literal for int() with base 10: 'f'"
     ]
    }
   ],
   "source": [
    "from functools import reduce\n",
    "\n",
    "some_input=list(some_input)\n",
    "all_values = []\n",
    "for each_elem in some_input:\n",
    "    all_values.append(int(each_elem))\n",
    "all_values\n",
    "\n",
    "logging.info(\"Finding greatest value\")\n",
    "maximum = reduce(lambda x,y: x if x>y else y, all_values)\n",
    "\n",
    "print(\"This is the input values list: \", some_input)\n",
    "print(\"This is the maximum value in the list: \",maximum)"
   ]
  },
  {
   "cell_type": "code",
   "execution_count": null,
   "id": "e2d03943-35ea-48f2-a2fb-263b68c40b71",
   "metadata": {},
   "outputs": [],
   "source": [
    "With Exeception Handling:\n",
    "    \n",
    "We can set an exception that will raise when the program is generating an error. But instead of interrupting the\n",
    "flow of the program, the exception will just print out the error that was generated during the execution and move\n",
    "on to execute the rest of the program."
   ]
  },
  {
   "cell_type": "code",
   "execution_count": 4,
   "id": "c4cc88b6-6f88-44f8-807f-0af374857c8d",
   "metadata": {},
   "outputs": [
    {
     "name": "stdout",
     "output_type": "stream",
     "text": [
      "The following exception was raised during the execution:  invalid literal for int() with base 10: 'f'\n"
     ]
    }
   ],
   "source": [
    "try:\n",
    "    some_input=list(some_input)\n",
    "    all_values = []\n",
    "    for each_elem in some_input:\n",
    "        all_values.append(int(each_elem))\n",
    "    all_values\n",
    "    logging.info('Finding greatest value')\n",
    "    maximum = reduce(lambda x,y: x if x>y else y, all_values)\n",
    "\n",
    "    print(\"This is the input values list: \", some_input)\n",
    "    print(\"This is the maximum value in the list: \",maximum)\n",
    "\n",
    "except Exception as e:\n",
    "    logging.warning('Caught Exception, Handling..')\n",
    "    print('The following exception was raised during the execution: ', e)\n",
    "    "
   ]
  },
  {
   "cell_type": "code",
   "execution_count": null,
   "id": "2cd4207e-39d7-4898-b680-1140f58dc001",
   "metadata": {},
   "outputs": [],
   "source": [
    "#Q3\n",
    "In Python, the try and except statements are used to catch and handle exceptions. The basic structure of a try-except \n",
    "statement is as followS:"
   ]
  },
  {
   "cell_type": "code",
   "execution_count": 5,
   "id": "1d144e1b-31c2-4c7c-8d58-0dfb4296b421",
   "metadata": {},
   "outputs": [],
   "source": [
    "try:\n",
    "    pass\n",
    "    # code that might raise an exception\n",
    "except ExceptionType:\n",
    "    pass\n",
    "    # code to handle the exception"
   ]
  },
  {
   "cell_type": "code",
   "execution_count": null,
   "id": "8215ddfd-82d5-407e-b574-df21de31428c",
   "metadata": {},
   "outputs": [],
   "source": [
    "The code that might raise an exception is placed inside the try block, and the code to handle the exception \n",
    "is placed inside the except block. The ExceptionType in the except clause specifies the type of exception that\n",
    "is being caught. If an exception of that type is raised in the try block, the code in the except block will be executed.\n",
    "\n",
    "Example\n",
    "The following code uses a try-except statement to catch a ZeroDivisionError exception:"
   ]
  },
  {
   "cell_type": "code",
   "execution_count": 7,
   "id": "7193fcbd-d14a-4a91-bda7-69830f386601",
   "metadata": {},
   "outputs": [
    {
     "name": "stdout",
     "output_type": "stream",
     "text": [
      "Caught the following error during execution:  division by zero\n"
     ]
    }
   ],
   "source": [
    "try:\n",
    "    logging.info('Division of value')\n",
    "    x = 1 / 0\n",
    "except Exception as e:\n",
    "    logging.warning('Caught Exception, Handling..')\n",
    "    print(\"Caught the following error during execution: \",e)"
   ]
  },
  {
   "cell_type": "code",
   "execution_count": null,
   "id": "5a22d11c-1d0d-48d9-ab80-d0573eeeeb18",
   "metadata": {},
   "outputs": [],
   "source": [
    "#Q4\n",
    "The try holds the code that might raise an exception/error.\n",
    "The else block of code is executed if no errors were raised"
   ]
  },
  {
   "cell_type": "code",
   "execution_count": 8,
   "id": "4ee2dd5e-6038-41a1-8ed1-092653b022c0",
   "metadata": {},
   "outputs": [
    {
     "name": "stdout",
     "output_type": "stream",
     "text": [
      "This executed because no errors were raise\n"
     ]
    }
   ],
   "source": [
    "try:\n",
    "    logging.info('Division of value')\n",
    "    x = 1 / 1\n",
    "except:\n",
    "    logging.warning('Caught Exception, Handling..')\n",
    "    print(\"This executed because errors were raised\")\n",
    "else:\n",
    "    print(\"This executed because no errors were raise\")"
   ]
  },
  {
   "cell_type": "code",
   "execution_count": null,
   "id": "382df0eb-ee30-422f-a704-b6810fb2536a",
   "metadata": {},
   "outputs": [],
   "source": [
    "finally------\n",
    "The finally block lets you execute code, regardless of the result of the try- and except blocks.\n",
    "\n"
   ]
  },
  {
   "cell_type": "code",
   "execution_count": 9,
   "id": "0225f40f-7959-4512-83e1-7a07b260ec0b",
   "metadata": {},
   "outputs": [
    {
     "name": "stdout",
     "output_type": "stream",
     "text": [
      "This executed because errors were raised\n",
      "This executes regardless\n"
     ]
    }
   ],
   "source": [
    "try: \n",
    "    logging.info('Division of value')\n",
    "    x = 1/0\n",
    "except:\n",
    "    logging.warning('Caught Exception, Handling..')\n",
    "    print(\"This executed because errors were raised\")\n",
    "else:\n",
    "    print(\"This executed because no errors were raise\")\n",
    "finally:\n",
    "    print(\"This executes regardless\")\n"
   ]
  },
  {
   "cell_type": "code",
   "execution_count": null,
   "id": "6a978c9b-6c0b-4d48-b6c3-3cce2b99d519",
   "metadata": {},
   "outputs": [],
   "source": [
    "raise-----\n",
    "The raise keyword is used to raise an exception.\n",
    "You can define what kind of error to raise, and the text to print to the user."
   ]
  },
  {
   "cell_type": "code",
   "execution_count": 10,
   "id": "997041a6-ceb2-4c0d-bf5f-3719808b55b9",
   "metadata": {},
   "outputs": [
    {
     "ename": "Exception",
     "evalue": "Sorry, no numbers below zero",
     "output_type": "error",
     "traceback": [
      "\u001b[0;31m---------------------------------------------------------------------------\u001b[0m",
      "\u001b[0;31mException\u001b[0m                                 Traceback (most recent call last)",
      "Cell \u001b[0;32mIn[10], line 6\u001b[0m\n\u001b[1;32m      4\u001b[0m \u001b[38;5;28;01mif\u001b[39;00m x \u001b[38;5;241m<\u001b[39m \u001b[38;5;241m0\u001b[39m:\n\u001b[1;32m      5\u001b[0m     logging\u001b[38;5;241m.\u001b[39merror(\u001b[38;5;124m'\u001b[39m\u001b[38;5;124mRaising exception\u001b[39m\u001b[38;5;124m'\u001b[39m)\n\u001b[0;32m----> 6\u001b[0m     \u001b[38;5;28;01mraise\u001b[39;00m \u001b[38;5;167;01mException\u001b[39;00m(\u001b[38;5;124m\"\u001b[39m\u001b[38;5;124mSorry, no numbers below zero\u001b[39m\u001b[38;5;124m\"\u001b[39m)\n",
      "\u001b[0;31mException\u001b[0m: Sorry, no numbers below zero"
     ]
    }
   ],
   "source": [
    "#raising exception\n",
    "x = -1\n",
    "\n",
    "if x < 0:\n",
    "    logging.error('Raising exception')\n",
    "    raise Exception(\"Sorry, no numbers below zero\")"
   ]
  },
  {
   "cell_type": "code",
   "execution_count": 11,
   "id": "d0fd8941-088c-4754-9e5f-f3317d28e003",
   "metadata": {},
   "outputs": [
    {
     "ename": "TypeError",
     "evalue": "Only integers are allowed",
     "output_type": "error",
     "traceback": [
      "\u001b[0;31m---------------------------------------------------------------------------\u001b[0m",
      "\u001b[0;31mTypeError\u001b[0m                                 Traceback (most recent call last)",
      "Cell \u001b[0;32mIn[11], line 6\u001b[0m\n\u001b[1;32m      4\u001b[0m \u001b[38;5;28;01mif\u001b[39;00m \u001b[38;5;129;01mnot\u001b[39;00m \u001b[38;5;28mtype\u001b[39m(x) \u001b[38;5;129;01mis\u001b[39;00m \u001b[38;5;28mint\u001b[39m:\n\u001b[1;32m      5\u001b[0m     logging\u001b[38;5;241m.\u001b[39merror(\u001b[38;5;124m'\u001b[39m\u001b[38;5;124mRaising error\u001b[39m\u001b[38;5;124m'\u001b[39m)\n\u001b[0;32m----> 6\u001b[0m     \u001b[38;5;28;01mraise\u001b[39;00m \u001b[38;5;167;01mTypeError\u001b[39;00m(\u001b[38;5;124m\"\u001b[39m\u001b[38;5;124mOnly integers are allowed\u001b[39m\u001b[38;5;124m\"\u001b[39m)\n",
      "\u001b[0;31mTypeError\u001b[0m: Only integers are allowed"
     ]
    }
   ],
   "source": [
    "#raising error\n",
    "x = \"hello\"\n",
    "\n",
    "if not type(x) is int:\n",
    "    logging.error('Raising error')\n",
    "    raise TypeError(\"Only integers are allowed\")"
   ]
  },
  {
   "cell_type": "code",
   "execution_count": null,
   "id": "44ccc6c4-9192-4a5a-8907-3d6bab4a9b93",
   "metadata": {},
   "outputs": [],
   "source": [
    "#Q5\n",
    "Custom Exceptions are user-defined exceptions that can be raised and caught in a program. Custom exceptions are created \n",
    "by creating a new class that inherits from the built-in Exception class.\n",
    "\n",
    "We need custom exceptions in a program for several reasons:\n",
    "\n",
    "Improved error handling: \n",
    "    By defining custom exceptions, we can provide more meaningful error messages that are specific to our application,\n",
    "    making it easier to diagnose and fix problems.\n",
    "Better organization: \n",
    "    Custom exceptions allow us to categorize and group errors in our code into different types, making it easier\n",
    "    to understand the structure of our error handling logic.\n",
    "Code reuse:\n",
    "    Custom exceptions can be reused across multiple parts of our code, making it easier to maintain a consistent\n",
    "    error handling strategy throughout our application."
   ]
  },
  {
   "cell_type": "code",
   "execution_count": 12,
   "id": "25020519-494f-4d5c-8e36-7098e3141ff2",
   "metadata": {},
   "outputs": [],
   "source": [
    "#Example:\n",
    "account_balance = 2000\n",
    "\n",
    "class InsufficientBalance(Exception):\n",
    "    def __init__ (self, error):\n",
    "        self.error=error\n",
    "        \n",
    "def withdraw_from_account(amount):\n",
    "    logging.info('Withdrawing amount..')\n",
    "    if amount > account_balance:\n",
    "        logging.error(\"Insufficient balance\")\n",
    "        raise InsufficientBalance('Insufficient balance in the account.')\n",
    "    else:\n",
    "        logging.info('Withdrawal Successful')\n",
    "        print(\"Amount Withdrawn Successfully\")"
   ]
  },
  {
   "cell_type": "code",
   "execution_count": 13,
   "id": "7ba5c0aa-2f22-46bb-bec6-03a35fabaad5",
   "metadata": {},
   "outputs": [
    {
     "name": "stdin",
     "output_type": "stream",
     "text": [
      "Enter amount to withdraw:  2500\n"
     ]
    },
    {
     "name": "stdout",
     "output_type": "stream",
     "text": [
      "Insufficient balance in the account.\n"
     ]
    }
   ],
   "source": [
    "try:\n",
    "    amount = int(input(\"Enter amount to withdraw: \"))\n",
    "    withdraw_from_account(amount)\n",
    "except InsufficientBalance as e:\n",
    "    print(e)\n",
    "    \n",
    "#amount entered: 2500"
   ]
  },
  {
   "cell_type": "code",
   "execution_count": null,
   "id": "65243825-8364-4b15-b542-8d98dce19e19",
   "metadata": {},
   "outputs": [],
   "source": [
    "In the above example, the InsufficientBalance custom exception is raised if the balance of the user's \n",
    "account is not sufficient to perform a transaction."
   ]
  },
  {
   "cell_type": "code",
   "execution_count": 14,
   "id": "86287252-a808-49ba-b259-502f35d761ce",
   "metadata": {},
   "outputs": [],
   "source": [
    "#Q6\n",
    "class notvalidID(Exception):\n",
    "    def __init__(self,error):\n",
    "        self.error = error\n",
    "\n",
    "def checkifIDvalid(id):\n",
    "    logging.info('Checking ID Validation..')\n",
    "    if len(id)!=10:\n",
    "        logging.error(\"Invalid ID length\")\n",
    "        raise notvalidID('Invalid ID, ID length should be exactly 10 characters long')\n",
    "    else:\n",
    "        logging.info('Valid ID')\n",
    "        print(\"Valid ID\")"
   ]
  },
  {
   "cell_type": "code",
   "execution_count": 15,
   "id": "08943455-493e-4a65-a3a4-b8db1dbddf39",
   "metadata": {},
   "outputs": [
    {
     "name": "stdin",
     "output_type": "stream",
     "text": [
      "Enter your ID:  4585221\n"
     ]
    },
    {
     "name": "stdout",
     "output_type": "stream",
     "text": [
      "Invalid ID, ID length should be exactly 10 characters long\n"
     ]
    }
   ],
   "source": [
    "try:\n",
    "    id = input('Enter your ID: ')\n",
    "    checkifIDvalid(id)\n",
    "except notvalidID as e:\n",
    "    print(e)\n",
    "#Entered ID: 4585221"
   ]
  },
  {
   "cell_type": "code",
   "execution_count": null,
   "id": "ce175c22-1169-4c94-9160-47a58ad85df1",
   "metadata": {},
   "outputs": [],
   "source": []
  }
 ],
 "metadata": {
  "kernelspec": {
   "display_name": "Python 3 (ipykernel)",
   "language": "python",
   "name": "python3"
  },
  "language_info": {
   "codemirror_mode": {
    "name": "ipython",
    "version": 3
   },
   "file_extension": ".py",
   "mimetype": "text/x-python",
   "name": "python",
   "nbconvert_exporter": "python",
   "pygments_lexer": "ipython3",
   "version": "3.10.8"
  }
 },
 "nbformat": 4,
 "nbformat_minor": 5
}
