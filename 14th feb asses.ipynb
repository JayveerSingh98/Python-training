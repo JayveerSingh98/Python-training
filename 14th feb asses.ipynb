{
 "cells": [
  {
   "cell_type": "code",
   "execution_count": null,
   "id": "4706c1d5-080b-4065-a80b-12bddd1cff9e",
   "metadata": {},
   "outputs": [],
   "source": [
    "#Q1\n",
    "Multithreading in Python refers to the concurrent execution of multiple threads within a single process.\n",
    "A thread is a lightweight subprocess that can be scheduled to run independently of the main program. \n",
    "Multithreading allows a program to perform multiple tasks simultaneously, which can lead to significant \n",
    "performance improvements in some cases.\n",
    "\n",
    "In Python, multithreading is often used to improve the responsiveness of graphical user interfaces (GUIs), \n",
    "to perform background tasks while the main program is running, and to speed up certain types of operations\n",
    "that can be parallelized.\n",
    "\n",
    "In Python, the module that is used to handle threads is called threading"
   ]
  },
  {
   "cell_type": "code",
   "execution_count": null,
   "id": "8727a9e6-5cc5-4487-bbcd-77718e3e88fb",
   "metadata": {},
   "outputs": [],
   "source": [
    "#Q2\n",
    "The threading module in Python is used for creating and managing threads in a program. \n",
    "It provides a high-level interface for creating, starting, and joining threads, as well as for \n",
    "synchronizing access to shared resources.\n",
    "\n",
    "activeCount(): This function returns the number of currently active thread objects in the program.\n",
    "It can be used to monitor the number of threads in a program and to ensure that the program is not\n",
    "creating too many threads.\n",
    "\n",
    "currentThread(): This function returns a reference to the currently executing thread object. It can\n",
    "be used to identify the current thread and to access information about the thread, such as its name and ID.\n",
    "\n",
    "enumerate(): This function returns a list of all thread objects that are currently active in the program. \n",
    "It can be used to obtain a snapshot of the current state of the program's threads and to iterate over the \n",
    "thread objects to perform operations on them, such as joining or terminating them."
   ]
  },
  {
   "cell_type": "code",
   "execution_count": null,
   "id": "e02c5574-2eaa-4d16-a00e-8e1a636ef99c",
   "metadata": {},
   "outputs": [],
   "source": [
    "#Q3\n",
    "run(): This is a method that is called when a thread is started using the start() method.\n",
    "It is used to define the actions that the thread should perform when it is started. The run() method is \n",
    "typically overridden in a subclass of the Thread class to define the specific behavior of the thread.\n",
    "\n",
    "start(): This method is used to start a new thread of execution. When the start() method is called, \n",
    "a new thread is created and the run() method of the thread is executed in a separate process.\n",
    "The start() method does not block the calling thread; instead, it returns immediately, allowing the \n",
    "caller to continue executing.\n",
    "\n",
    "join(): This method is used to wait for a thread to finish its execution. When the join() method is \n",
    "called on a thread object, the calling thread blocks until the thread being joined completes its execution.\n",
    "The join() method can be used to ensure that all threads complete their execution before the program exits.\n",
    "\n",
    "isAlive(): This method returns a Boolean value indicating whether a thread is currently executing or not.\n",
    "If the thread is still running, isAlive() returns True; otherwise, it returns False. This method can be used \n",
    "to determine the status of a thread and to take appropriate actions based on its state"
   ]
  },
  {
   "cell_type": "code",
   "execution_count": 1,
   "id": "ef3ec097-72af-4fd9-8703-3d66413053fe",
   "metadata": {},
   "outputs": [
    {
     "name": "stdout",
     "output_type": "stream",
     "text": [
      "[4, 9, 25, 36, 16, 9, 25, 49]\n",
      "[8, 27, 125, 216, 64, 27, 125, 343]\n"
     ]
    }
   ],
   "source": [
    "#Q4\n",
    "import threading\n",
    "\n",
    "results1 = []\n",
    "results2 = []\n",
    "#squares function\n",
    "def squares(number):\n",
    "    results1.append(number**2)\n",
    "\n",
    "#cubes function\n",
    "def cubes(number):\n",
    "    results2.append(number**3)\n",
    "\n",
    "#threads function\n",
    "def threads(numbers_list, squares):\n",
    "    threads=[]\n",
    "    for i in range(len(numbers_list)):\n",
    "        t=threading.Thread(target = squares, args =(numbers_list[i],))\n",
    "        threads.append(t)\n",
    "        t.start()\n",
    "\n",
    "#main\n",
    "numbers_list=[2,3,5,6,4,3,5,7]\n",
    "thread1 = threads(numbers_list,squares)\n",
    "thread2 = threads(numbers_list,cubes)\n",
    "print(results1)\n",
    "print(results2)"
   ]
  },
  {
   "cell_type": "code",
   "execution_count": null,
   "id": "5607942d-26a1-45f6-a3d2-caacf75a43f9",
   "metadata": {},
   "outputs": [],
   "source": [
    "#Q5\n",
    "Advantages:-------\n",
    "Increased performance: Multithreading can lead to significant performance improvements for programs that \n",
    "perform many independent tasks, as it allows different parts of the program to execute simultaneously on \n",
    "different CPU cores.\n",
    "Responsiveness: Multithreading can make programs more responsive, as it allows them to continue executing \n",
    "while waiting for I/O or other blocking operations to complete.\n",
    "Resource sharing: Multithreading allows multiple threads to access shared resources, such as files or \n",
    "databases, without requiring complex coordination mechanisms.\n",
    "Modular design: Multithreading can make programs easier to design and implement by allowing different\n",
    "parts of the program to be executed in separate threads, making the program more modular and easier to maintain.\n",
    "Disadvantages:--------\n",
    "Synchronization issues: Multithreading requires careful management of shared resources to avoid race\n",
    "conditions and other synchronization issues that can lead to errors or incorrect behavior.\n",
    "Complexity: Multithreading can make programs more complex and harder to debug, as it introduces new\n",
    "sources of bugs and errors related to thread synchronization and communication.\n",
    "Overhead: Creating and managing threads requires additional resources, such as memory and CPU time,\n",
    "which can reduce the overall performance of the program if not managed carefully.\n",
    "Scalability issues: The benefits of multithreading may not scale linearly with the number of CPU cores\n",
    "available, as adding more threads may lead to diminishing returns or even reduce performance in some cases."
   ]
  },
  {
   "cell_type": "code",
   "execution_count": null,
   "id": "96b6a5f6-cfaa-4922-8dad-1d0f95e7aa61",
   "metadata": {},
   "outputs": [],
   "source": [
    "#Q6\n",
    "Deadlock: A deadlock is a situation in which two or more threads are waiting for each other to release \n",
    "resources, resulting in a state where no thread can proceed. This can occur when two or more threads hold \n",
    "resources that the other thread needs to continue execution, resulting in a deadlock. Deadlocks can be\n",
    "difficult to detect and resolve, as they can involve complex interactions between threads and shared resources.\n",
    "\n",
    "Race Condition: A race condition is a situation in which the outcome of a program depends on the order \n",
    "and timing of thread execution. Race conditions can occur when two or more threads access shared resources \n",
    "or modify shared data in an uncoordinated manner. This can lead to incorrect behavior or crashes, as the\n",
    "threads may overwrite each other's changes or make incorrect assumptions about the state of shared resources."
   ]
  }
 ],
 "metadata": {
  "kernelspec": {
   "display_name": "Python 3 (ipykernel)",
   "language": "python",
   "name": "python3"
  },
  "language_info": {
   "codemirror_mode": {
    "name": "ipython",
    "version": 3
   },
   "file_extension": ".py",
   "mimetype": "text/x-python",
   "name": "python",
   "nbconvert_exporter": "python",
   "pygments_lexer": "ipython3",
   "version": "3.10.8"
  }
 },
 "nbformat": 4,
 "nbformat_minor": 5
}
