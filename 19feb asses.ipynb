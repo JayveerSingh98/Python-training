{
 "cells": [
  {
   "cell_type": "code",
   "execution_count": null,
   "id": "bddefb00-debb-49fc-9b54-6d82dd6b47b9",
   "metadata": {},
   "outputs": [],
   "source": [
    "#Q1\n",
    "Flask is a lightweight web application framework written in Python that provides a simple and flexible way to \n",
    "build web applications. It is classified as a microframework because it does not require particular tools or libraries\n",
    "and has no database abstraction layer or form validation. Flask is designed to keep the core of the application simple\n",
    "and extensible, and it can be easily extended with third-party packages.\n",
    "\n",
    "Advantages:\n",
    "\n",
    "Lightweight and Flexible: \n",
    "    Flask is a microframework and does not come with a lot of built-in functionality. This makes it lightweight and \n",
    "    flexible, allowing developers to only use what they need and not be burdened by unnecessary features.\n",
    "\n",
    "Easy to Learn and Use: \n",
    "    Flask has a small and easy-to-understand codebase, making it easy to learn and use. It has a simple API, and\n",
    "    its documentation is comprehensive and easy to follow.\n",
    "\n",
    "Extensible:\n",
    "    Flask can be easily extended using third-party packages, making it possible to add functionality to your \n",
    "    application without having to reinvent the wheel.\n",
    "\n",
    "Large and Active Community: \n",
    "    Flask has a large and active community, which means that you can find lots of tutorials, \n",
    "examples, and help online. This makes it easy to get started with Flask and solve problems when they arise.\n",
    "\n",
    "Flask is built on Python: \n",
    "    Since Flask is built on Python, it has access to a large number of libraries and packages, making it easy to \n",
    "    integrate with other Python libraries and frameworks.\n",
    "\n",
    "Customizable:\n",
    "    Flask allows developers to create their own extensions, and it also provides various configuration options. \n",
    "    This makes it possible to customize the framework to suit the needs of your application."
   ]
  },
  {
   "cell_type": "code",
   "execution_count": null,
   "id": "efd14664-c458-40e1-b9b7-e3bfbba6c860",
   "metadata": {},
   "outputs": [],
   "source": [
    "#Q2\n",
    "from flask import Flask\n",
    "\n",
    "app = Flask(__name__)\n",
    "\n",
    "@app.route('/')\n",
    "def hello_world():\n",
    "    return \"<h1> Hello World!!</h1>\" \n",
    "\n",
    "if __name__==\"__main__\":\n",
    "    app.run(host=\"0.0.0.0\")\n",
    "IGNORED THE OUTPUT IMG REQUIREMENT AS I DIDN'T GET WAY TO PUT IT HERE    "
   ]
  },
  {
   "cell_type": "code",
   "execution_count": null,
   "id": "16b1f9cc-0e63-44d0-8e64-cb4bb4e0655f",
   "metadata": {},
   "outputs": [],
   "source": [
    "#Q3\n",
    "In Flask, an app route is a URL path that a web application will respond to. It is a decorator that binds a function\n",
    "to a URL endpoint, which means that when a user makes a request to a specific URL, the function that is bound to that\n",
    "URL endpoint will be executed.\n",
    "\n",
    "App routing is an essential part of web development because it enables a web application to serve different content for\n",
    "different URLs. Using app routes, you can define the URLs that your application will respond to and the functions that\n",
    "will be executed in response to those URLs. This makes it possible to create dynamic, interactive web applications that \n",
    "respond to user input and deliver personalized content."
   ]
  },
  {
   "cell_type": "code",
   "execution_count": null,
   "id": "8aaa0f01-d139-4826-875d-ddaacf145dd6",
   "metadata": {},
   "outputs": [],
   "source": [
    "#Q4\n",
    "from flask import Flask\n",
    "\n",
    "app = Flask(__name__)\n",
    "\n",
    "@app.route('/')\n",
    "def hello_world():\n",
    "    return \"<p>Company Name: ABC Corporation</p><p>Location: India</p><p>Contact Detail: 999-999-9999</p>\"\n",
    "\n",
    "@app.route('/welcome')\n",
    "def welcome():\n",
    "    return \"Welcome to ABC Corporation\"\n",
    "\n",
    "if __name__==\"__main__\":\n",
    "    app.run(host=\"0.0.0.0\") \n",
    "IGNORED THE OUTPUT IMG REQUIREMENT AS I DIDN'T GET WAY TO PUT IT HERE"
   ]
  },
  {
   "cell_type": "code",
   "execution_count": null,
   "id": "e82158bf-1413-4ae6-ac94-a6a0ea944f13",
   "metadata": {},
   "outputs": [],
   "source": [
    "#Q5\n",
    "from flask import Flask\n",
    "from flask import url_for\n",
    "\n",
    "app = Flask(__name__)\n",
    "\n",
    "@app.route('/')\n",
    "def hello_world():\n",
    "    return \"<p>Company Name: ABC Corporation</p><p>Location: India</p><p>Contact Detail: 999-999-9999</p>\"\n",
    "\n",
    "@app.route('/welcome')\n",
    "def welcome():\n",
    "    return \"Welcome to ABC Corporation\"\n",
    "\n",
    "with app.test_request_context():\n",
    "    print(url_for('welcome'))\n",
    "\n",
    "if __name__==\"__main__\":\n",
    "    app.run(host=\"0.0.0.0\")\n",
    "    \n",
    "#builds url \"/welcome\" for welcome function"
   ]
  },
  {
   "cell_type": "code",
   "execution_count": null,
   "id": "b77130ff-eaba-4592-b895-ed108caf64e3",
   "metadata": {},
   "outputs": [],
   "source": []
  }
 ],
 "metadata": {
  "kernelspec": {
   "display_name": "Python 3 (ipykernel)",
   "language": "python",
   "name": "python3"
  },
  "language_info": {
   "codemirror_mode": {
    "name": "ipython",
    "version": 3
   },
   "file_extension": ".py",
   "mimetype": "text/x-python",
   "name": "python",
   "nbconvert_exporter": "python",
   "pygments_lexer": "ipython3",
   "version": "3.10.8"
  }
 },
 "nbformat": 4,
 "nbformat_minor": 5
}
