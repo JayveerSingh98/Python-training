{
 "cells": [
  {
   "cell_type": "code",
   "execution_count": null,
   "id": "b8eef4fa-8f64-463a-a413-55f0b25835c2",
   "metadata": {},
   "outputs": [],
   "source": [
    "#Q1\n",
    "Web scraping, also known as web data extraction or web harvesting, is the process of extracting and collecting\n",
    "data from websites using automated tools or software. It involves using a program or script to access the HTML \n",
    "or other structured data on a website and extracting specific information from it.\n",
    "\n",
    "Web scraping is used for various purposes such as gathering market intelligence, research, analytics, and other\n",
    "business-related activities. It is a useful technique for collecting data from websites that do not offer an API \n",
    "or have limited access to their data.\n",
    "\n",
    "Web scraping can be a valuable tool for data scientists who need to collect data from various sources, including\n",
    "websites. By extracting data from websites using web scraping, data scientists can gather relevant data to create\n",
    "predictive models, perform statistical analysis, or perform other data-related tasks.\n",
    "\n",
    "Here are three areas where web scraping is commonly used to get data:\n",
    "\n",
    "E-commerce and price monitoring: Web scraping can be used to monitor e-commerce websites to collect product data,\n",
    "such as product descriptions, images, and pricing, to track pricing changes and compare prices across multiple sites.\n",
    "\n",
    "Social media analysis: Web scraping can be used to collect data from social media platforms, such as Facebook, Twitter,\n",
    "and Instagram, to analyze social media sentiment, track hashtags, and monitor user engagement.\n",
    "\n",
    "Research and journalism: Web scraping can be used by researchers and journalists to collect data on various topics, \n",
    "including news articles, public records, and other online sources, to support their research and writing."
   ]
  },
  {
   "cell_type": "code",
   "execution_count": null,
   "id": "f40decb3-4738-484f-bba0-4bf0daaf06b9",
   "metadata": {},
   "outputs": [],
   "source": [
    "#Q2\n",
    "There are several methods used for web scraping, each with its own advantages and disadvantages. Here are some\n",
    "of the most commonly used methods:\n",
    "\n",
    "HTML parsing: This method involves parsing the HTML source code of a website to extract specific information, \n",
    "such as text or images. HTML parsing can be done using tools such as Beautiful Soup and lxml.\n",
    "\n",
    "Regular expressions: This method involves using regular expressions to search for and extract specific patterns\n",
    "of text from a website's HTML code. Regular expressions can be powerful but can also be difficult to create and maintain.\n",
    "\n",
    "Web scraping tools: There are many web scraping tools available that can be used to extract data from websites,\n",
    "such as Scrapy, Selenium, and Puppeteer. These tools allow for more advanced web scraping techniques, such as\n",
    "navigating websites, interacting with forms, and handling dynamic content.\n",
    "\n",
    "APIs: Some websites offer APIs (Application Programming Interfaces) that can be used to extract data in a structured \n",
    "format. APIs are generally more reliable and easier to use than web scraping, but they may not offer all the data that \n",
    "is available on the website.\n",
    "\n",
    "Browser extensions: Some browser extensions, such as Data Miner and Web Scraper, allow users to extract data from websites \n",
    "by interacting with the page directly. These extensions are typically easy to use but may be limited in functionality \n",
    "compared to other web scraping methods."
   ]
  },
  {
   "cell_type": "code",
   "execution_count": null,
   "id": "ef1d945b-a59c-4008-b6ea-216c45cbc220",
   "metadata": {},
   "outputs": [],
   "source": [
    "#Q3\n",
    "Beautiful Soup is a Python library that is used for web scraping purposes. It allows developers to parse HTML\n",
    "and XML documents, and extract useful information from them. The library gets its name from a poem of the same\n",
    "name by Lewis Carroll, which refers to the idea of making sense out of chaos.\n",
    "\n",
    "It is a valuable tool for developers who need to extract data from websites for a variety of applications, including\n",
    "data analysis, machine learning, and research.\n",
    "It allows developers to search for specific tags and attributes, as well as navigate the document tree. With Beautiful\n",
    "Soup, developers can easily extract text, images, links, and other content from a website's HTML code."
   ]
  },
  {
   "cell_type": "code",
   "execution_count": null,
   "id": "7f85db88-80f3-46f5-89f3-1dd0c7727132",
   "metadata": {},
   "outputs": [],
   "source": [
    "#Q4\n",
    "During the project that was built today, Flask was utilized to construct a basic front-end web application. \n",
    "To accomplish this, a Flask application was first created, which acted as the foundation of the entire project.\n",
    "\n",
    "This web page contained a text box, which allowed the users to input a specific product's name. Additionally, \n",
    "a button was included on this page, which could be clicked to initiate a request for information regarding the product. \n",
    "Upon clicking this button, the user would be directed to a new page, where various product details would be rendered.\n",
    "These details include information such as product pricing, ratings, and reviews."
   ]
  },
  {
   "cell_type": "code",
   "execution_count": null,
   "id": "d241ef94-63a6-4336-bd5f-fff97303def9",
   "metadata": {},
   "outputs": [],
   "source": [
    "#Q5\n",
    "In today's project we used AWS CodePipeline and AWS Elastic Beanstalk\n",
    "\n",
    "Here is a very brief summary of the steps that we took during deployement of our web-scrapping web app:\n",
    "\n",
    "Created a GitHub repository to store our application's source code.\n",
    "Created Elastic Beanstalk Environment\n",
    "Created a CodePipeline pipeeline\n",
    "Connected our GitHub repository to CodePipeline\n",
    "Deployed our web app"
   ]
  }
 ],
 "metadata": {
  "kernelspec": {
   "display_name": "Python 3 (ipykernel)",
   "language": "python",
   "name": "python3"
  },
  "language_info": {
   "codemirror_mode": {
    "name": "ipython",
    "version": 3
   },
   "file_extension": ".py",
   "mimetype": "text/x-python",
   "name": "python",
   "nbconvert_exporter": "python",
   "pygments_lexer": "ipython3",
   "version": "3.10.8"
  }
 },
 "nbformat": 4,
 "nbformat_minor": 5
}
