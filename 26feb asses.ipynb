{
 "cells": [
  {
   "cell_type": "code",
   "execution_count": 1,
   "id": "41352d53-2ede-4e40-81ee-eb62329a5dcf",
   "metadata": {},
   "outputs": [],
   "source": [
    "import numpy as np\n",
    "\n",
    "list_ = ['1','2','3','4','5']\n",
    "array_list = np.array(object = list_)"
   ]
  },
  {
   "cell_type": "code",
   "execution_count": null,
   "id": "84b097e1-37a5-46f5-a67a-2b27fd403504",
   "metadata": {},
   "outputs": [],
   "source": [
    "#Q1\n",
    "Yes, there is a difference in the data type of list_ and array_list.\n",
    "\n",
    "list_ is a Python list, and its elements are strings ('1', '2', '3', '4', '5'), while array_list is a NumPy array,\n",
    "and its elements are also strings.\n",
    "\n",
    "The data type of list_ is list, while the data type of array_list is numpy.ndarray\n",
    "\n",
    "We can verify it as:"
   ]
  },
  {
   "cell_type": "code",
   "execution_count": 2,
   "id": "d05a1fa1-de59-40f8-993e-063d0932bf8d",
   "metadata": {},
   "outputs": [
    {
     "data": {
      "text/plain": [
       "list"
      ]
     },
     "execution_count": 2,
     "metadata": {},
     "output_type": "execute_result"
    }
   ],
   "source": [
    "type(list_)\n"
   ]
  },
  {
   "cell_type": "code",
   "execution_count": 3,
   "id": "d27af3ea-36ed-4676-9908-45d4d89e2cdd",
   "metadata": {},
   "outputs": [
    {
     "data": {
      "text/plain": [
       "numpy.ndarray"
      ]
     },
     "execution_count": 3,
     "metadata": {},
     "output_type": "execute_result"
    }
   ],
   "source": [
    "type(array_list)"
   ]
  },
  {
   "cell_type": "code",
   "execution_count": 4,
   "id": "d76a5ebf-2cf2-4cfd-940f-b293ba13a862",
   "metadata": {},
   "outputs": [
    {
     "data": {
      "text/plain": [
       "[str, str, str, str, str]"
      ]
     },
     "execution_count": 4,
     "metadata": {},
     "output_type": "execute_result"
    }
   ],
   "source": [
    "#Q2\n",
    "list(map(lambda x: type(x), list_))"
   ]
  },
  {
   "cell_type": "code",
   "execution_count": 5,
   "id": "0504125c-883b-4f74-a6c3-47dc36975875",
   "metadata": {},
   "outputs": [
    {
     "data": {
      "text/plain": [
       "[numpy.str_, numpy.str_, numpy.str_, numpy.str_, numpy.str_]"
      ]
     },
     "execution_count": 5,
     "metadata": {},
     "output_type": "execute_result"
    }
   ],
   "source": [
    "list(map(lambda x: type(x), array_list))"
   ]
  },
  {
   "cell_type": "code",
   "execution_count": 6,
   "id": "675aead1-b426-483e-95cc-4d370439aca5",
   "metadata": {},
   "outputs": [],
   "source": [
    "#Q3\n",
    "array_list = np.array(object = list_, dtype = int)"
   ]
  },
  {
   "cell_type": "code",
   "execution_count": 7,
   "id": "1045bf85-26e9-4e9e-ab34-12ad8d5728d3",
   "metadata": {},
   "outputs": [
    {
     "data": {
      "text/plain": [
       "[numpy.int64, numpy.int64, numpy.int64, numpy.int64, numpy.int64]"
      ]
     },
     "execution_count": 7,
     "metadata": {},
     "output_type": "execute_result"
    }
   ],
   "source": [
    "list(map(lambda x: type(x), array_list))"
   ]
  },
  {
   "cell_type": "code",
   "execution_count": null,
   "id": "dc5c97b4-2a47-4398-8fbf-e6faaabed963",
   "metadata": {},
   "outputs": [],
   "source": [
    "Yes, By doing array_list = np.array(object = list_, dtype = int) we're specifying the data type of the elements in a \n",
    "NumPy array to be int. It creates a NumPy array with elements of the int data type"
   ]
  },
  {
   "cell_type": "code",
   "execution_count": 8,
   "id": "d43cbd98-99ca-429f-9c4c-e7c25781ba77",
   "metadata": {},
   "outputs": [],
   "source": [
    "#Q4\n",
    "num_list = [ [ 1 , 2 , 3 ] , [ 4 , 5 , 6 ] ]\n",
    "num_array = np.array(object = num_list)"
   ]
  },
  {
   "cell_type": "code",
   "execution_count": 9,
   "id": "dd5caa1f-9f2d-425b-bbad-5c150c9f21b6",
   "metadata": {},
   "outputs": [
    {
     "data": {
      "text/plain": [
       "(2, 3)"
      ]
     },
     "execution_count": 9,
     "metadata": {},
     "output_type": "execute_result"
    }
   ],
   "source": [
    "num_array.shape"
   ]
  },
  {
   "cell_type": "code",
   "execution_count": 10,
   "id": "17628343-b136-4813-9174-caf198ca73cb",
   "metadata": {},
   "outputs": [
    {
     "data": {
      "text/plain": [
       "6"
      ]
     },
     "execution_count": 10,
     "metadata": {},
     "output_type": "execute_result"
    }
   ],
   "source": [
    "num_array.size"
   ]
  },
  {
   "cell_type": "code",
   "execution_count": 12,
   "id": "05638a88-e508-4144-8372-38a6910def79",
   "metadata": {},
   "outputs": [],
   "source": [
    "#Q5\n",
    "arr = np.zeros((3,3))"
   ]
  },
  {
   "cell_type": "code",
   "execution_count": 14,
   "id": "86020d28-3e32-4f31-98d8-d0aad917ec9a",
   "metadata": {},
   "outputs": [
    {
     "data": {
      "text/plain": [
       "array([[0., 0., 0.],\n",
       "       [0., 0., 0.],\n",
       "       [0., 0., 0.]])"
      ]
     },
     "execution_count": 14,
     "metadata": {},
     "output_type": "execute_result"
    }
   ],
   "source": [
    "arr"
   ]
  },
  {
   "cell_type": "code",
   "execution_count": 15,
   "id": "3d22502d-74cd-4a49-a3fd-69a34d9f755e",
   "metadata": {},
   "outputs": [
    {
     "data": {
      "text/plain": [
       "(9, (3, 3))"
      ]
     },
     "execution_count": 15,
     "metadata": {},
     "output_type": "execute_result"
    }
   ],
   "source": [
    "arr.size, arr.shape"
   ]
  },
  {
   "cell_type": "code",
   "execution_count": 16,
   "id": "a5a9b69e-1c8b-4921-b66c-6ea93b5dcb22",
   "metadata": {},
   "outputs": [
    {
     "data": {
      "text/plain": [
       "array([[1., 0., 0., 0., 0.],\n",
       "       [0., 1., 0., 0., 0.],\n",
       "       [0., 0., 1., 0., 0.],\n",
       "       [0., 0., 0., 1., 0.],\n",
       "       [0., 0., 0., 0., 1.]])"
      ]
     },
     "execution_count": 16,
     "metadata": {},
     "output_type": "execute_result"
    }
   ],
   "source": [
    "#Q6\n",
    "np.eye(5)"
   ]
  },
  {
   "cell_type": "code",
   "execution_count": null,
   "id": "3a80dea4-8da6-4de9-be90-ba574df10c35",
   "metadata": {},
   "outputs": [],
   "source": []
  }
 ],
 "metadata": {
  "kernelspec": {
   "display_name": "Python 3 (ipykernel)",
   "language": "python",
   "name": "python3"
  },
  "language_info": {
   "codemirror_mode": {
    "name": "ipython",
    "version": 3
   },
   "file_extension": ".py",
   "mimetype": "text/x-python",
   "name": "python",
   "nbconvert_exporter": "python",
   "pygments_lexer": "ipython3",
   "version": "3.10.8"
  }
 },
 "nbformat": 4,
 "nbformat_minor": 5
}
